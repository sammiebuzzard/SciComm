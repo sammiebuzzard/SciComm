{
 "cells": [
  {
   "cell_type": "code",
   "execution_count": 3,
   "metadata": {},
   "outputs": [
    {
     "name": "stdout",
     "output_type": "stream",
     "text": [
      "1955\n",
      "1956\n",
      "1957\n",
      "1958\n",
      "1959\n",
      "1960\n",
      "1963\n",
      "1966\n"
     ]
    }
   ],
   "source": [
    "#Read in, average and plot tide gauge data (example for Milford Haven) from BODC https://www.bodc.ac.uk/data/hosted_data_systems/sea_level/uk_tide_gauge_network/processed/\n",
    "import numpy as np\n",
    "import io\n",
    "from pathlib import Path\n",
    "import matplotlib.pyplot as plt\n",
    "\n",
    "TG='MHA' #Tide Gauge code in file name\n",
    "#Read in and average each year\n",
    "mean_sl=np.zeros(2020)\n",
    "for year in range (1953,2020):\n",
    "    data_file=Path(f'{year}{TG}.txt')\n",
    "    if data_file.is_file():\n",
    "        data=np.genfromtxt(f'{year}MHA.txt',skip_header=12, usecols=(3),dtype=str)\n",
    "        data=np.char.strip(data,chars=\"N,T,M\") #'N' (missing values are removed later), 'T' is interpolated values\n",
    "        #data=data[] #Remove 'M' values flagged by BODC as unrealistic M\n",
    "        data = data.astype(np.float)\n",
    "        data = data[data != -99.0000]\n",
    "        mean_sl[year]=(np.mean(data))\n",
    "    else:\n",
    "        print(year)\n",
    "        \n"
   ]
  },
  {
   "cell_type": "code",
   "execution_count": 6,
   "metadata": {},
   "outputs": [],
   "source": [
    "#Interpolate missing years, not actually used in the MHA case as the gaps between early years was large\n",
    "\n",
    "from scipy.interpolate import interp1d\n",
    "\n",
    "y = mean_sl[1967:2021]\n",
    "xnew = np.arange(len(y))\n",
    "\n",
    "zero_idx = np.where(y==0)\n",
    "xold = np.delete(xnew,zero_idx)\n",
    "yold = np.delete(y, zero_idx)\n",
    "f = interp1d(xold,yold)\n",
    "ynew = f(xnew)"
   ]
  },
  {
   "cell_type": "markdown",
   "metadata": {},
   "source": [
    "###### pwd"
   ]
  },
  {
   "cell_type": "code",
   "execution_count": 7,
   "metadata": {},
   "outputs": [
    {
     "data": {
      "image/png": "[encoded data removed]",
      "text/plain": [
       "<Figure size 432x288 with 1 Axes>"
      ]
     },
     "metadata": {
      "needs_background": "light"
     },
     "output_type": "display_data"
    }
   ],
   "source": [
    "#\n",
    "col = []\n",
    "for val in ynew:\n",
    "    if val < 3.4:\n",
    "        col.append('white')\n",
    "    elif val <= 3.5:\n",
    "        col.append('green')\n",
    "    elif val <= 3.65:\n",
    "        col.append('red')\n",
    "    elif val <= 3.7:\n",
    "        col.append('azure')#three\n",
    "    elif val <= 3.75:\n",
    "        col.append('lightcyan')#one\n",
    "    elif val <= 3.8:\n",
    "        col.append('aliceblue')#14\n",
    "    elif val <= 3.85:\n",
    "        col.append('aqua')#17\n",
    "    elif val <= 3.9:\n",
    "        col.append('royalblue')#4\n",
    "    elif val <= 3.95:\n",
    "        col.append('mediumblue')#10\n",
    "    elif val <= 3.9:\n",
    "        col.append('red')\n",
    "    elif val <= 4.0:\n",
    "        col.append('midnightblue')#3\n",
    "    else:\n",
    "        col.append('red')\n",
    "\n",
    "plt.bar(xnew,ynew, color=col)\n",
    "plt.show()"
   ]
  },
  {
   "cell_type": "code",
   "execution_count": 7,
   "metadata": {},
   "outputs": [
    {
     "data": {
      "text/plain": [
       "53"
      ]
     },
     "execution_count": 7,
     "metadata": {},
     "output_type": "execute_result"
    }
   ],
   "source": [
    "len(ynew)"
   ]
  },
  {
   "cell_type": "code",
   "execution_count": 8,
   "metadata": {},
   "outputs": [
    {
     "data": {
      "text/plain": [
       "13.25"
      ]
     },
     "execution_count": 8,
     "metadata": {},
     "output_type": "execute_result"
    }
   ],
   "source": [
    "53/4\n"
   ]
  },
  {
   "cell_type": "code",
   "execution_count": null,
   "metadata": {},
   "outputs": [],
   "source": [
    "13.25*"
   ]
  }
 ],
 "metadata": {
  "kernelspec": {
   "display_name": "Python 3",
   "language": "python",
   "name": "python3"
  },
  "language_info": {
   "codemirror_mode": {
    "name": "ipython",
    "version": 3
   },
   "file_extension": ".py",
   "mimetype": "text/x-python",
   "name": "python",
   "nbconvert_exporter": "python",
   "pygments_lexer": "ipython3",
   "version": "3.8.5"
  }
 },
 "nbformat": 4,
 "nbformat_minor": 4
}
